{
 "cells": [
  {
   "cell_type": "markdown",
   "metadata": {},
   "source": [
    "# 1) "
   ]
  },
  {
   "cell_type": "markdown",
   "metadata": {},
   "source": [
    "# Thi"
   ]
  },
  {
   "cell_type": "code",
   "execution_count": 2,
   "metadata": {
    "vscode": {
     "languageId": "python"
    }
   },
   "outputs": [
    {
     "name": "stdout",
     "output_type": "stream",
     "text": [
      "4782\n"
     ]
    }
   ],
   "source": [
    "def fib():\n",
    "    a, b = 1, 1\n",
    "    while True:\n",
    "        a, b = b, a + b\n",
    "        yield b\n",
    "\n",
    "f = fib()\n",
    "n = 2\n",
    "while len(str(next(f))) < 1000:\n",
    "    n += 1\n",
    "n += 1 # +1 because we don't count the last iteration\n",
    "print(n)"
   ]
  },
  {
   "cell_type": "code",
   "execution_count": 7,
   "metadata": {
    "vscode": {
     "languageId": "python"
    }
   },
   "outputs": [],
   "source": [
    "def run_of_primes(a, b):\n",
    "    n = 0\n",
    "    while n**2 + a * n + b in Primes():\n",
    "        n += 1\n",
    "    return n - 1"
   ]
  },
  {
   "cell_type": "code",
   "execution_count": 8,
   "metadata": {
    "vscode": {
     "languageId": "python"
    }
   },
   "outputs": [
    {
     "name": "stdout",
     "output_type": "stream",
     "text": [
      "longest_run=70 with: longest_a=-61, longest_b=971 and product -59231\n"
     ]
    }
   ],
   "source": [
    "longest_run = 0\n",
    "for a in range(-1000, 1000):\n",
    "    for b in range(-1000, 1000):\n",
    "        if run_of_primes(a, b) >= longest_run:\n",
    "            longest_run = run_of_primes(a, b)\n",
    "            longest_a = a\n",
    "            longest_b = b\n",
    "print(f'{longest_run=} with: {longest_a=}, {longest_b=} and product {longest_a * longest_b}')"
   ]
  },
  {
   "cell_type": "markdown",
   "metadata": {},
   "source": [
    "## 23) Non-abundant sums\n",
    "\n",
    "\n",
    "A perfect number is a number for which the sum of its proper divisors is exactly equal to the number. For example, the sum of the proper divisors of 28 would be 1 + 2 + 4 + 7 + 14 = 28, which means that 28 is a perfect number.\n",
    "\n",
    "A number n is called deficient if the sum of its proper divisors is less than n and it is called abundant if this sum exceeds n.\n",
    "\n",
    "As 12 is the smallest abundant number, 1 + 2 + 3 + 4 + 6 = 16, the smallest number that can be written as the sum of two abundant numbers is 24. By mathematical analysis, it can be shown that all integers greater than 28123 can be written as the sum of two abundant numbers. However, this upper limit cannot be reduced any further by analysis even though it is known that the greatest number that cannot be expressed as the sum of two abundant numbers is less than this limit.\n",
    "\n",
    "Find the sum of all the positive integers which cannot be written as the sum of two abundant numbers.\n"
   ]
  },
  {
   "cell_type": "code",
   "execution_count": 18,
   "metadata": {
    "vscode": {
     "languageId": "python"
    }
   },
   "outputs": [
    {
     "name": "stdout",
     "output_type": "stream",
     "text": [
      "4179871\n"
     ]
    }
   ],
   "source": [
    "def p23():\n",
    "    upper_bound = 28123\n",
    "    answer = 0\n",
    "    # only on a subset of abundant numbers, {a}, up to the number, n, itself (to cut down on execution time)\n",
    "    # check if n - a is not in the set of abundant numbers, {a}, for all a in {a}\n",
    "    abundant_numbers = set()\n",
    "    for n in range(1,upper_bound + 1):\n",
    "        if n < sum(divisors(n)[:-1]): # the sum of properdivisors of n\n",
    "            abundant_numbers.add(n)\n",
    "        if not any((n - a in abundant_numbers) for a in abundant_numbers):\n",
    "            answer += n\n",
    "    return answer\n",
    "print(p23())\n",
    "#%timeit p23()"
   ]
  },
  {
   "cell_type": "code",
   "execution_count": 10,
   "metadata": {
    "vscode": {
     "languageId": "python"
    }
   },
   "outputs": [
    {
     "name": "stdout",
     "output_type": "stream",
     "text": [
      "4179871\n"
     ]
    }
   ],
   "source": [
    "# Other implementations from thread:\n",
    "def p23_alternative1():\n",
    "    LIMIT = 28124\n",
    "    divisorsum = [0] * LIMIT\n",
    "    for i in range(1, LIMIT):\n",
    "        for j in range(i * 2, LIMIT, i):\n",
    "            divisorsum[j] += i\n",
    "    abundantnums = [i for (i, x) in enumerate(divisorsum) if x > i]\n",
    "\n",
    "    expressible = [False] * LIMIT\n",
    "    for i in abundantnums:\n",
    "        for j in abundantnums:\n",
    "            if i + j < LIMIT:\n",
    "                expressible[i + j] = True\n",
    "            else:\n",
    "                break\n",
    "\n",
    "    print(sum(i for (i, x) in enumerate(expressible) if not x))"
   ]
  },
  {
   "cell_type": "markdown",
   "metadata": {},
   "source": [
    "## 24) Lexicographic Permutations\n",
    "\n",
    "A permutation is an ordered arrangement of objects. For example, 3124 is one possible permutation of the digits 1, 2, 3 and 4. If all of the permutations are listed numerically or alphabetically, we call it lexicographic order. The lexicographic permutations of 0, 1 and 2 are:\n",
    "\n",
    "012   021   102   120   201   210\n",
    "\n",
    "What is the millionth lexicographic permutation of the digits 0, 1, 2, 3, 4, 5, 6, 7, 8 and 9?\n"
   ]
  },
  {
   "cell_type": "code",
   "execution_count": 81,
   "metadata": {
    "vscode": {
     "languageId": "python"
    }
   },
   "outputs": [
    {
     "name": "stdout",
     "output_type": "stream",
     "text": [
      "('2', '7', '8', '3', '9', '1', '5', '4', '6', '0')\n",
      "['2', '7', '8', '3', '9', '1', '5', '4', '6', '0']\n"
     ]
    }
   ],
   "source": [
    "import itertools\n",
    "perms = itertools.permutations('0123456789')\n",
    "for i in range(1_000_000-1):\n",
    "    next(perms)\n",
    "print(next(perms))\n",
    "\n",
    "# OR #\n",
    "\n",
    "def get_nth_permutation(init_list, n):\n",
    "    \"\"\"\n",
    "    This function uses the fact that the m'th element in a list will be on the first space \n",
    "    in the permutation, when (m-1)*(len(list)-1)! <= perm_number < m*(len(list)-1)!. \n",
    "    Hence we can iteratively find the elements in the permuted list by poping them from the \n",
    "    initial list, when we find they obey above inequality, and then carry over the remainder,\n",
    "    and use that remainder as the perm_number of the new shorter list...\n",
    "    \"\"\"\n",
    "    perm_list = list()\n",
    "    n = n % factorial(len(init_list)) - 1 # Make sure we do not loop around so divide n by total number of permutations\n",
    "    while len(init_list):\n",
    "        d = len(init_list) - 1\n",
    "        perm_list.append(init_list.pop(n // factorial(d)) )\n",
    "        n = n % factorial(d)\n",
    "    return perm_list\n",
    "\n",
    "print(get_nth_permutation(list('0123456789'), 1_000_000))"
   ]
  },
  {
   "cell_type": "markdown",
   "metadata": {},
   "source": [
    "## 26) Reciprocal cycles\n",
    "\n",
    "\n",
    "\n",
    "A unit fraction contains 1 in the numerator. The decimal representation of the unit fractions with denominators 2 to 10 are given:\n",
    "\n",
    "    1/2\t= \t0.5\n",
    "    1/3\t= \t0.(3)\n",
    "    1/4\t= \t0.25\n",
    "    1/5\t= \t0.2\n",
    "    1/6\t= \t0.1(6)\n",
    "    1/7\t= \t0.(142857)\n",
    "    1/8\t= \t0.125\n",
    "    1/9\t= \t0.(1)\n",
    "    1/10\t= \t0.1 \n",
    "\n",
    "Where 0.1(6) means 0.166666..., and has a 1-digit recurring cycle. It can be seen that 1/7 has a 6-digit recurring cycle.\n",
    "\n",
    "Find the value of d < 1000 for which 1/d contains the longest recurring cycle in its decimal fraction part.\n"
   ]
  },
  {
   "cell_type": "code",
   "execution_count": 35,
   "metadata": {
    "vscode": {
     "languageId": "python"
    }
   },
   "outputs": [
    {
     "data": {
      "text/plain": [
       "'0.1111111111'"
      ]
     },
     "execution_count": 35,
     "metadata": {},
     "output_type": "execute_result"
    }
   ],
   "source": [
    "def unit_fraction_string(d, max_digits):\n",
    "    carry = 10\n",
    "    string = '0.'\n",
    "    while len(string) < max_digits + 2:\n",
    "        string += str(carry//d)\n",
    "        carry = carry%d * 10\n",
    "        if carry == 0:\n",
    "            break\n",
    "    return string\n",
    "unit_fraction_string(9,10)"
   ]
  },
  {
   "cell_type": "code",
   "execution_count": 36,
   "metadata": {
    "vscode": {
     "languageId": "python"
    }
   },
   "outputs": [],
   "source": [
    "def divide(a, b):\n",
    "  '''Returns the decimal representation of the fraction a / b in three parts:\n",
    "  integer part, non-recurring fractional part, and recurring part.'''\n",
    "  assert b > 0\n",
    "  integer = a // b\n",
    "  remainder = a % b\n",
    "  seen = {remainder: 0}  # Holds position where each remainder was first seen.\n",
    "  digits = []\n",
    "  while(True):  # Loop executed at most b times (as remainders must be distinct)\n",
    "    remainder *= 10\n",
    "    digits.append(remainder // b)\n",
    "    remainder = remainder % b\n",
    "    if remainder in seen:  # Digits have begun to recur.\n",
    "      where = seen[remainder]\n",
    "      return (integer, digits[:where], digits[where:])\n",
    "    else:\n",
    "      seen[remainder] = len(digits)"
   ]
  },
  {
   "cell_type": "code",
   "execution_count": 44,
   "metadata": {
    "vscode": {
     "languageId": "python"
    }
   },
   "outputs": [
    {
     "name": "stdout",
     "output_type": "stream",
     "text": [
      "983\n"
     ]
    }
   ],
   "source": [
    "max_length = 0\n",
    "max_d = 1\n",
    "for d in range(1, 1000):\n",
    "    integer, non_recurring, recurring = divide(1,d)\n",
    "    if len(recurring) > max_length:\n",
    "        max_length = len(recurring)\n",
    "        max_d = d\n",
    "print(max_d)"
   ]
  },
  {
   "cell_type": "markdown",
   "metadata": {},
   "source": [
    "## 28) Number spiral diagonals\n",
    "\n",
    "Starting with the number 1 and moving to the right in a clockwise direction a 5 by 5 spiral is formed as follows:\n",
    "\n",
    "```verbatim\n",
    "21 22 23 24 25\n",
    "20  7  8  9 10\n",
    "19  6  1  2 11\n",
    "18  5  4  3 12\n",
    "17 16 15 14 13\n",
    "```\n",
    "\n",
    "It can be verified that the sum of the numbers on the diagonals is 101.\n",
    "\n",
    "What is the sum of the numbers on the diagonals in a 1001 by 1001 spiral formed in the same way?\n"
   ]
  },
  {
   "cell_type": "code",
   "execution_count": 89,
   "metadata": {
    "vscode": {
     "languageId": "python"
    }
   },
   "outputs": [
    {
     "name": "stdout",
     "output_type": "stream",
     "text": [
      "669171001\n"
     ]
    }
   ],
   "source": [
    "def sum_of_diagonals(width):\n",
    "    assert width > 0\n",
    "    assert width % 2 == 1\n",
    "    result = 1\n",
    "    n = 1\n",
    "    i = 2\n",
    "    while i < width:\n",
    "        for _ in range(4):\n",
    "            n += i\n",
    "            result += n\n",
    "        i = i + 2\n",
    "    return result\n",
    "\n",
    "print(sum_of_diagonals(1001))"
   ]
  },
  {
   "cell_type": "markdown",
   "metadata": {},
   "source": [
    "## 31) Coin Sums\n",
    "\n",
    "\n",
    "\n",
    "In the United Kingdom the currency is made up of pound (£) and pence (p). There are eight coins in general circulation:\n",
    "\n",
    "    1p, 2p, 5p, 10p, 20p, 50p, £1 (100p), and £2 (200p).\n",
    "\n",
    "It is possible to make £2 in the following way:\n",
    "\n",
    "    1×£1 + 1×50p + 2×20p + 1×5p + 1×2p + 3×1p\n",
    "\n",
    "How many different ways can £2 be made using any number of coins?\n"
   ]
  },
  {
   "cell_type": "code",
   "execution_count": 111,
   "metadata": {
    "vscode": {
     "languageId": "python"
    }
   },
   "outputs": [
    {
     "name": "stdout",
     "output_type": "stream",
     "text": [
      "x^388 - x^387 - x^386 + x^385 - x^383 + x^382 + x^381 - x^380 - x^378 + x^377 + x^376 - x^375 + x^373 - x^372 - x^371 + x^370 - x^368 + x^367 + x^366 - x^365 + x^363 - x^362 - x^361 + x^360 + x^358 - x^357 - x^356 + x^355 - x^353 + x^352 + x^351 - x^350 - x^338 + x^337 + x^336 - x^335 + x^333 - x^332 - x^331 + x^330 + x^328 - x^327 - x^326 + x^325 - x^323 + x^322 + x^321 - x^320 + x^318 - x^317 - x^316 + x^315 - x^313 + x^312 + x^311 - x^310 - x^308 + x^307 + x^306 - x^305 + x^303 - x^302 - x^301 + x^300 - x^288 + x^287 + x^286 - x^285 + x^283 - x^282 - x^281 + x^280 + x^278 - x^277 - x^276 + x^275 - x^273 + x^272 + x^271 - x^270 + x^268 - x^267 - x^266 + x^265 - x^263 + x^262 + x^261 - x^260 - x^258 + x^257 + x^256 - x^255 + x^253 - x^252 - x^251 + x^250 + x^238 - x^237 - x^236 + x^235 - x^233 + x^232 + x^231 - x^230 - x^228 + x^227 + x^226 - x^225 + x^223 - x^222 - x^221 + x^220 - x^218 + x^217 + x^216 - x^215 + x^213 - x^212 - x^211 + x^210 + x^208 - x^207 - x^206 + x^205 - x^203 + x^202 + x^201 - x^200 - x^188 + x^187 + x^186 - x^185 + x^183 - x^182 - x^181 + x^180 + x^178 - x^177 - x^176 + x^175 - x^173 + x^172 + x^171 - x^170 + x^168 - x^167 - x^166 + x^165 - x^163 + x^162 + x^161 - x^160 - x^158 + x^157 + x^156 - x^155 + x^153 - x^152 - x^151 + x^150 + x^138 - x^137 - x^136 + x^135 - x^133 + x^132 + x^131 - x^130 - x^128 + x^127 + x^126 - x^125 + x^123 - x^122 - x^121 + x^120 - x^118 + x^117 + x^116 - x^115 + x^113 - x^112 - x^111 + x^110 + x^108 - x^107 - x^106 + x^105 - x^103 + x^102 + x^101 - x^100 + x^88 - x^87 - x^86 + x^85 - x^83 + x^82 + x^81 - x^80 - x^78 + x^77 + x^76 - x^75 + x^73 - x^72 - x^71 + x^70 - x^68 + x^67 + x^66 - x^65 + x^63 - x^62 - x^61 + x^60 + x^58 - x^57 - x^56 + x^55 - x^53 + x^52 + x^51 - x^50 - x^38 + x^37 + x^36 - x^35 + x^33 - x^32 - x^31 + x^30 + x^28 - x^27 - x^26 + x^25 - x^23 + x^22 + x^21 - x^20 + x^18 - x^17 - x^16 + x^15 - x^13 + x^12 + x^11 - x^10 - x^8 + x^7 + x^6 - x^5 + x^3 - x^2 - x + 1\n"
     ]
    }
   ],
   "source": [
    "x = var('x')\n",
    "gen_func = 1/((1 - x)*(1 - x^2)*(1 - x^5)*(1 - x^10)*(1 - x^20)*(1 - x^50)*(1 - x^100)*(1 - x^200))\n",
    "print(((1 - x)*(1 - x^2)*(1 - x^5)*(1 - x^10)*(1 - x^20)*(1 - x^50)*(1 - x^100)*(1 - x^200)).expand())"
   ]
  },
  {
   "cell_type": "code",
   "execution_count": null,
   "metadata": {
    "vscode": {
     "languageId": "python"
    }
   },
   "outputs": [],
   "source": []
  },
  {
   "cell_type": "markdown",
   "metadata": {},
   "source": [
    "## 32) Pandigital Products\n",
    "\n",
    "We shall say that an n-digit number is pandigital if it makes use of all the digits 1 to n exactly once; for example, the 5-digit number, 15234, is 1 through 5 pandigital.\n",
    "\n",
    "The product 7254 is unusual, as the identity, 39 × 186 = 7254, containing multiplicand, multiplier, and product is 1 through 9 pandigital.\n",
    "\n",
    "Find the sum of all products whose multiplicand/multiplier/product identity can be written as a 1 through 9 pandigital.\n",
    "HINT: Some products can be obtained in more than one way so be sure to only include it once in your sum.\n"
   ]
  },
  {
   "cell_type": "code",
   "execution_count": 25,
   "metadata": {
    "vscode": {
     "languageId": "python"
    }
   },
   "outputs": [
    {
     "name": "stdout",
     "output_type": "stream",
     "text": [
      "Result: 45228\n"
     ]
    }
   ],
   "source": [
    "from itertools import permutations\n",
    "import numpy as np\n",
    "\n",
    "solutions = []\n",
    "\n",
    "numbers = [str(i) for i in range(1,10)]\n",
    "\n",
    "for len_a in range(1, 3):\n",
    "    for len_b in range(len_a, 5):\n",
    "        for permutation in permutations(numbers):\n",
    "            a = int(''.join(permutation[0:len_a]))\n",
    "            b = int(''.join(permutation[len_a:len_b+len_a]))\n",
    "            c = int(''.join(permutation[len_b+len_a:]))\n",
    "            if a * b == c:\n",
    "                solutions.append({'a': a, 'b': b, 'c': c})\n",
    "\n",
    "print('Result:', sum(set(solution['c'] for solution in solutions)))"
   ]
  },
  {
   "cell_type": "markdown",
   "metadata": {},
   "source": [
    "## 34) Digit Factorials\n",
    "\n",
    "145 is a curious number, as 1! + 4! + 5! = 1 + 24 + 120 = 145.\n",
    "\n",
    "Find the sum of all numbers which are equal to the sum of the factorial of their digits.\n",
    "\n",
    "Note: As 1! = 1 and 2! = 2 are not sums they are not included.\n",
    "\n",
    "PS: 9! = 362880, so max number of digits is 7, since if more than this, the digit factorial sum will always be less than the number itself as 7 * 9! = 2540160. This number is in fact the limit wee need to check to. "
   ]
  },
  {
   "cell_type": "code",
   "execution_count": 9,
   "metadata": {
    "vscode": {
     "languageId": "python"
    }
   },
   "outputs": [
    {
     "name": "stdout",
     "output_type": "stream",
     "text": [
      "1\n",
      "2\n",
      "145\n",
      "40585\n",
      "[1, 2, 145, 40585]\n"
     ]
    }
   ],
   "source": [
    "solutions = []\n",
    "for i in range(7 * factorial(9)):\n",
    "    digits_fact_sum = sum(factorial(int(digit)) for digit in str(i))\n",
    "    if i == digits_fact_sum:\n",
    "        print(i)\n",
    "        solutions.append(i)\n",
    "print(solutions)"
   ]
  },
  {
   "cell_type": "code",
   "execution_count": 14,
   "metadata": {
    "vscode": {
     "languageId": "python"
    }
   },
   "outputs": [
    {
     "data": {
      "text/plain": [
       "2540160"
      ]
     },
     "execution_count": 14,
     "metadata": {},
     "output_type": "execute_result"
    }
   ],
   "source": [
    "7 * factorial(9)"
   ]
  },
  {
   "cell_type": "code",
   "execution_count": null,
   "metadata": {
    "vscode": {
     "languageId": "python"
    }
   },
   "outputs": [],
   "source": []
  }
 ],
 "metadata": {
  "interpreter": {
   "hash": "916dbcbb3f70747c44a77c7bcd40155683ae19c65e1c03b4aa3499c5328201f1"
  },
  "kernelspec": {
   "display_name": "SageMath 9.5",
   "language": "sage",
   "name": "sagemath"
  },
  "language_info": {
   "codemirror_mode": {
    "name": "ipython",
    "version": 3
   },
   "file_extension": ".py",
   "mimetype": "text/x-python",
   "name": "sage",
   "nbconvert_exporter": "python",
   "pygments_lexer": "ipython3",
   "version": "3.10.4"
  },
  "orig_nbformat": 4
 },
 "nbformat": 4,
 "nbformat_minor": 2
}
