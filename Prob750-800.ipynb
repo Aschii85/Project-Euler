{
 "cells": [
  {
   "cell_type": "markdown",
   "metadata": {},
   "source": [
    "## 788) Dominating Numbers\n",
    "\n",
    "A dominating number is a positive integer that has more than half of its digits equal.\n",
    "\n",
    "For example,\n",
    "is a dominating number because three of its four digits are equal to . But\n",
    "\n",
    "is not a dominating number.\n",
    "\n",
    "Let\n",
    "be how many dominating numbers are less than . For example, and\n",
    "\n",
    ".\n",
    "\n",
    "Find D(2022). Give your answer modulo 1'000'000'007. "
   ]
  },
  {
   "cell_type": "code",
   "execution_count": null,
   "metadata": {
    "vscode": {
     "languageId": "python"
    }
   },
   "outputs": [],
   "source": [
    "from collections import Counter\n",
    "\n",
    "def num_dominating(N):\n",
    "    res = 0\n",
    "    for n in range(10**N):\n",
    "        str_n = str(n)\n",
    "        counter = Counter(str_n)\n",
    "        if counter.most_common(1)[0][1] > len(str_n) / 2:\n",
    "            res += 1\n",
    "    return res\n",
    "\n",
    "print(Mod(num_dominating(2022), 1_000_000_007))"
   ]
  },
  {
   "cell_type": "code",
   "execution_count": null,
   "metadata": {
    "vscode": {
     "languageId": "python"
    }
   },
   "outputs": [],
   "source": []
  }
 ],
 "metadata": {
  "kernelspec": {
   "display_name": "SageMath 9.5",
   "language": "sage",
   "name": "sagemath"
  },
  "language_info": {
   "codemirror_mode": {
    "name": "ipython",
    "version": 3
   },
   "file_extension": ".py",
   "mimetype": "text/x-python",
   "name": "sage",
   "nbconvert_exporter": "python",
   "pygments_lexer": "ipython3",
   "version": "3.10.4"
  },
  "orig_nbformat": 4,
  "vscode": {
   "interpreter": {
    "hash": "916dbcbb3f70747c44a77c7bcd40155683ae19c65e1c03b4aa3499c5328201f1"
   }
  }
 },
 "nbformat": 4,
 "nbformat_minor": 2
}
